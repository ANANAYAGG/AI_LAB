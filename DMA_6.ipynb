{
  "nbformat": 4,
  "nbformat_minor": 0,
  "metadata": {
    "colab": {
      "provenance": [],
      "authorship_tag": "ABX9TyN5LmQsmnGn5zpwBirUBDlz",
      "include_colab_link": true
    },
    "kernelspec": {
      "name": "python3",
      "display_name": "Python 3"
    },
    "language_info": {
      "name": "python"
    }
  },
  "cells": [
    {
      "cell_type": "markdown",
      "metadata": {
        "id": "view-in-github",
        "colab_type": "text"
      },
      "source": [
        "<a href=\"https://colab.research.google.com/github/ANANAYAGG/AI_LAB/blob/main/DMA_6.ipynb\" target=\"_parent\"><img src=\"https://colab.research.google.com/assets/colab-badge.svg\" alt=\"Open In Colab\"/></a>"
      ]
    },
    {
      "cell_type": "markdown",
      "source": [
        "**SERIES**"
      ],
      "metadata": {
        "id": "JjGpQlPFrfAk"
      }
    },
    {
      "cell_type": "code",
      "source": [
        "import pandas as pd\n",
        "\n",
        "\n",
        "data = [1, 3, 5]\n",
        "series = pd.Series(data, index=['x', 'y', 'z'])\n",
        "print(series)\n",
        "\n",
        "\n",
        "print(series['y'])\n"
      ],
      "metadata": {
        "colab": {
          "base_uri": "https://localhost:8080/"
        },
        "id": "3tEaOSd_nj36",
        "outputId": "1e4ef608-abb3-4d7e-a63b-7f25ee17a536"
      },
      "execution_count": null,
      "outputs": [
        {
          "output_type": "stream",
          "name": "stdout",
          "text": [
            "x    1\n",
            "y    3\n",
            "z    5\n",
            "dtype: int64\n",
            "3\n"
          ]
        }
      ]
    },
    {
      "cell_type": "markdown",
      "source": [
        "**DATAFRAME**"
      ],
      "metadata": {
        "id": "lcrlCbElmybJ"
      }
    },
    {
      "cell_type": "code",
      "source": [
        "import pandas as pd\n",
        "\n",
        "data={\n",
        "    \"rno\":['1','2','3','4'],\n",
        "    \"age\":['21','20','21','19'],\n",
        "    \"rank\":['3','1','2','4']\n",
        "    }\n",
        "\n",
        "df=pd.DataFrame(data)\n",
        "print(df[\"age\"])"
      ],
      "metadata": {
        "colab": {
          "base_uri": "https://localhost:8080/"
        },
        "id": "vL0hEEtXmxYB",
        "outputId": "674e8fc1-bbf8-4da9-8b1b-0b1e66378ed0"
      },
      "execution_count": null,
      "outputs": [
        {
          "output_type": "stream",
          "name": "stdout",
          "text": [
            "0    21\n",
            "1    20\n",
            "2    21\n",
            "3    19\n",
            "Name: age, dtype: object\n"
          ]
        }
      ]
    },
    {
      "cell_type": "markdown",
      "source": [
        "**BASIC FUNCTIONALITY**"
      ],
      "metadata": {
        "id": "OECrQmvGsNvc"
      }
    },
    {
      "cell_type": "code",
      "source": [
        "import pandas as pd\n",
        "\n",
        "df = pd.DataFrame({'A': [1, 2], 'B': [3, 4]})\n",
        "print(df.info())\n",
        "print(df.head())\n"
      ],
      "metadata": {
        "colab": {
          "base_uri": "https://localhost:8080/"
        },
        "id": "oRPXRHSArnVc",
        "outputId": "6202c54c-d36a-40db-a7c0-5656d996312d"
      },
      "execution_count": null,
      "outputs": [
        {
          "output_type": "stream",
          "name": "stdout",
          "text": [
            "<class 'pandas.core.frame.DataFrame'>\n",
            "RangeIndex: 2 entries, 0 to 1\n",
            "Data columns (total 2 columns):\n",
            " #   Column  Non-Null Count  Dtype\n",
            "---  ------  --------------  -----\n",
            " 0   A       2 non-null      int64\n",
            " 1   B       2 non-null      int64\n",
            "dtypes: int64(2)\n",
            "memory usage: 164.0 bytes\n",
            "None\n",
            "   A  B\n",
            "0  1  3\n",
            "1  2  4\n"
          ]
        }
      ]
    },
    {
      "cell_type": "markdown",
      "source": [
        "**DESCRIPTIVE STATISTICS**"
      ],
      "metadata": {
        "id": "461zfs75uO6e"
      }
    },
    {
      "cell_type": "code",
      "source": [
        "import pandas as pd\n",
        "\n",
        "data = {'Maths': [90, 85, 98, None], 'Science': [92, 87, None, None]}\n",
        "df = pd.DataFrame(data)\n",
        "\n",
        "print(df.describe())\n",
        "\n",
        "\n",
        "print(df.count())\n"
      ],
      "metadata": {
        "colab": {
          "base_uri": "https://localhost:8080/"
        },
        "id": "fpmxZyLwsd7t",
        "outputId": "39b56b4f-56b5-4dd5-af77-2e010bae3f8a"
      },
      "execution_count": null,
      "outputs": [
        {
          "output_type": "stream",
          "name": "stdout",
          "text": [
            "           Maths    Science\n",
            "count   3.000000   2.000000\n",
            "mean   91.000000  89.500000\n",
            "std     6.557439   3.535534\n",
            "min    85.000000  87.000000\n",
            "25%    87.500000  88.250000\n",
            "50%    90.000000  89.500000\n",
            "75%    94.000000  90.750000\n",
            "max    98.000000  92.000000\n",
            "Maths      3\n",
            "Science    2\n",
            "dtype: int64\n"
          ]
        }
      ]
    },
    {
      "cell_type": "markdown",
      "source": [
        "**ITERATION**"
      ],
      "metadata": {
        "id": "JTg5Y5rmvunZ"
      }
    },
    {
      "cell_type": "code",
      "source": [
        "for index, row in df.iterrows():\n",
        "    print(row['Maths'], row['Science'])"
      ],
      "metadata": {
        "colab": {
          "base_uri": "https://localhost:8080/"
        },
        "id": "riMSrHbduU-o",
        "outputId": "904bd478-b2d0-4485-d48d-e73ca91f02f5"
      },
      "execution_count": null,
      "outputs": [
        {
          "output_type": "stream",
          "name": "stdout",
          "text": [
            "90.0 92.0\n",
            "85.0 87.0\n",
            "98.0 nan\n",
            "nan nan\n"
          ]
        }
      ]
    },
    {
      "cell_type": "markdown",
      "source": [
        "**SORTING IN DESCENDING WISE**"
      ],
      "metadata": {
        "id": "EWqOrtCbv2r9"
      }
    },
    {
      "cell_type": "code",
      "source": [
        "import pandas as pd\n",
        "\n",
        "data = {'Item': ['Laptop', 'Monitor', 'Mouse'], 'Cost': [1000, 200, 50]}\n",
        "df = pd.DataFrame(data)\n",
        "\n",
        "\n",
        "sorted_df = df.sort_values(by='Cost', ascending=False)\n",
        "print(sorted_df)\n"
      ],
      "metadata": {
        "colab": {
          "base_uri": "https://localhost:8080/"
        },
        "id": "z6GUivB6umRT",
        "outputId": "0c3ebec9-ec0e-4557-b83a-32cacc3752e3"
      },
      "execution_count": null,
      "outputs": [
        {
          "output_type": "stream",
          "name": "stdout",
          "text": [
            "      Item  Cost\n",
            "0   Laptop  1000\n",
            "1  Monitor   200\n",
            "2    Mouse    50\n"
          ]
        }
      ]
    },
    {
      "cell_type": "code",
      "source": [
        "import pandas as pd\n",
        "\n",
        "data = {'Names': ['Karan', 'Manav'],\n",
        "        'Emails': ['Karan@example.com', 'Manav@test.com'],\n",
        "        'Codes': ['ABC123', 'def456']}\n",
        "df = pd.DataFrame(data)\n",
        "\n",
        "\n",
        "df['Names'] = df['Names'].str.upper()\n",
        "print(df['Names'])\n",
        "\n",
        "df['Names_Lower'] = df['Names'].str.lower()\n",
        "print(df['Names_Lower'])\n",
        "\n",
        "df['Names_Capitalized'] = df['Names'].str.capitalize()\n",
        "print(df['Names_Capitalized'])\n",
        "\n",
        "df['Code_Prefix'] = df['Codes'].str[:3]\n",
        "print(df['Code_Prefix'])\n",
        "\n",
        "df['Name_Length'] = df['Names'].str.len()\n",
        "print(df['Name_Length'])"
      ],
      "metadata": {
        "colab": {
          "base_uri": "https://localhost:8080/"
        },
        "id": "jKUkwN6FvfpZ",
        "outputId": "b5f6515f-828b-4063-ff16-6500f2d502cc"
      },
      "execution_count": null,
      "outputs": [
        {
          "output_type": "stream",
          "name": "stdout",
          "text": [
            "0    KARAN\n",
            "1    MANAV\n",
            "Name: Names, dtype: object\n",
            "0    karan\n",
            "1    manav\n",
            "Name: Names_Lower, dtype: object\n",
            "0    Karan\n",
            "1    Manav\n",
            "Name: Names_Capitalized, dtype: object\n",
            "0    ABC\n",
            "1    def\n",
            "Name: Code_Prefix, dtype: object\n",
            "0    5\n",
            "1    5\n",
            "Name: Name_Length, dtype: int64\n"
          ]
        }
      ]
    },
    {
      "cell_type": "markdown",
      "source": [
        "**INDEXING AND SLICING DATA**"
      ],
      "metadata": {
        "id": "hAK6P54Gz3Zj"
      }
    },
    {
      "cell_type": "code",
      "source": [
        "import pandas as pd\n",
        "\n",
        "data = {'Name': ['Alice', 'Bhim', 'Chris'], 'Age': [25, 30, 35]}\n",
        "df = pd.DataFrame(data)\n",
        "\n",
        "print(\"Using iloc:\")\n",
        "print(df.iloc[0])\n",
        "print(\"\\n\")\n",
        "\n",
        "# Set 'Name' as the index\n",
        "df.set_index('Name', inplace=True)\n",
        "print(\"DataFrame with 'Name' as index:\")\n",
        "print(df)\n",
        "print(\"\\n\")\n",
        "\n",
        "# Now we can use loc with 'Alice'\n",
        "print(\"Using loc:\")\n",
        "print(df.loc['Alice'])\n",
        "print(\"\\n\")\n",
        "\n",
        "\n"
      ],
      "metadata": {
        "colab": {
          "base_uri": "https://localhost:8080/"
        },
        "id": "ZAADM_NY0dxR",
        "outputId": "8e84264e-a7f3-4531-b5bb-8b21e3d9d5df"
      },
      "execution_count": null,
      "outputs": [
        {
          "output_type": "stream",
          "name": "stdout",
          "text": [
            "Using iloc:\n",
            "Name    Alice\n",
            "Age        25\n",
            "Name: 0, dtype: object\n",
            "\n",
            "\n",
            "DataFrame with 'Name' as index:\n",
            "       Age\n",
            "Name      \n",
            "Alice   25\n",
            "Bhim    30\n",
            "Chris   35\n",
            "\n",
            "\n",
            "Using loc:\n",
            "Age    25\n",
            "Name: Alice, dtype: int64\n",
            "\n",
            "\n"
          ]
        }
      ]
    },
    {
      "cell_type": "markdown",
      "source": [
        "**STATISTICAL FUNCTIONS**"
      ],
      "metadata": {
        "id": "l1SXFDcZ5rjx"
      }
    },
    {
      "cell_type": "code",
      "source": [
        "import pandas as pd\n",
        "\n",
        "data = {'Maths': [90, 85, 98], 'Science': [92, 87, 59]}\n",
        "df = pd.DataFrame(data)\n",
        "\n",
        "print(df.sum())\n",
        "\n",
        "print(df.mean())\n",
        "\n",
        "print(df.std())\n"
      ],
      "metadata": {
        "colab": {
          "base_uri": "https://localhost:8080/"
        },
        "id": "72Ij-Fbj1_f7",
        "outputId": "4f356a62-84af-4b0a-c6ac-b5e033888659"
      },
      "execution_count": null,
      "outputs": [
        {
          "output_type": "stream",
          "name": "stdout",
          "text": [
            "Maths      273\n",
            "Science    238\n",
            "dtype: int64\n",
            "Maths      91.000000\n",
            "Science    79.333333\n",
            "dtype: float64\n",
            "Maths       6.557439\n",
            "Science    17.785762\n",
            "dtype: float64\n"
          ]
        }
      ]
    },
    {
      "cell_type": "code",
      "source": [],
      "metadata": {
        "id": "DNpnSTUa6ZVL"
      },
      "execution_count": null,
      "outputs": []
    }
  ]
}