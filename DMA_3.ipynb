{
  "nbformat": 4,
  "nbformat_minor": 0,
  "metadata": {
    "colab": {
      "provenance": [],
      "authorship_tag": "ABX9TyPLq0WOSe7bHndTQgKCAv+q",
      "include_colab_link": true
    },
    "kernelspec": {
      "name": "python3",
      "display_name": "Python 3"
    },
    "language_info": {
      "name": "python"
    }
  },
  "cells": [
    {
      "cell_type": "markdown",
      "metadata": {
        "id": "view-in-github",
        "colab_type": "text"
      },
      "source": [
        "<a href=\"https://colab.research.google.com/github/ANANAYAGG/AI_LAB/blob/main/DMA_3.ipynb\" target=\"_parent\"><img src=\"https://colab.research.google.com/assets/colab-badge.svg\" alt=\"Open In Colab\"/></a>"
      ]
    },
    {
      "cell_type": "markdown",
      "source": [
        "**IDENTIFYING UNIQUE WORDS**"
      ],
      "metadata": {
        "id": "Am0E6GjUx8hX"
      }
    },
    {
      "cell_type": "code",
      "execution_count": null,
      "metadata": {
        "id": "gajdrZnWK7OR",
        "colab": {
          "base_uri": "https://localhost:8080/"
        },
        "outputId": "00f385e7-b791-46d1-eb3f-214f1136e5e3"
      },
      "outputs": [
        {
          "output_type": "stream",
          "name": "stdout",
          "text": [
            "Enter a word hi\n",
            "Enter a word hello\n",
            "Enter a word how\n",
            "Enter a word hello\n",
            "Enter a word hi\n",
            "Enter a word \n",
            "\n",
            "Unique words in order of entry:\n",
            "hi\n",
            "hello\n",
            "how\n"
          ]
        }
      ],
      "source": [
        "words = []\n",
        "while True:\n",
        "    word = input(\"Enter a word \")\n",
        "    if word == \"\":\n",
        "        break\n",
        "    if word not in words:\n",
        "        words.append(word)\n",
        "\n",
        "print(\"\\nUnique words in order of entry:\")\n",
        "for word in words:\n",
        "    print(word)\n"
      ]
    },
    {
      "cell_type": "markdown",
      "source": [
        "**SORTING ON KEYS AND VALUES OF DICTIONARY**"
      ],
      "metadata": {
        "id": "lmFwYylWyYb8"
      }
    },
    {
      "cell_type": "code",
      "source": [
        "\n",
        "list1 = input(\"Enter the first list \").split(',')\n",
        "list2 = input(\"Enter the second list \").split(',')\n",
        "\n",
        "dictionary = {}\n",
        "for i in range(min(len(list1), len(list2))):\n",
        "    dictionary[list1[i].strip()] = list2[i].strip()\n",
        "\n",
        "print(\" Dictionary:\", dictionary)\n",
        "\n",
        "sort_order = input(\"Sort by (key/value)? \").lower()\n",
        "\n",
        "if sort_order == 'key':\n",
        "    sorted_dictionary = dict(sorted(dictionary.items()))\n",
        "elif sort_order == 'value':\n",
        "    sorted_dictionary = dict(sorted(dictionary.items(), key=lambda item: item[1]))\n",
        "\n",
        "print(\"Sorted Dictionary:\", sorted_dictionary)\n"
      ],
      "metadata": {
        "colab": {
          "base_uri": "https://localhost:8080/"
        },
        "id": "yKdYBk3ARtBr",
        "outputId": "2f9b5f6a-0fcf-4983-9c7a-ca1c4c3acf65"
      },
      "execution_count": null,
      "outputs": [
        {
          "output_type": "stream",
          "name": "stdout",
          "text": [
            "Enter the first list 1,2,3\n",
            "Enter the second list oa,b,c\n",
            " Dictionary: {'1': 'a', '2': 'b', '3': 'c'}\n",
            "Sort by (key/value)? value\n",
            "Sorted Dictionary: {'1': 'a', '2': 'b', '3': 'c'}\n"
          ]
        }
      ]
    }
  ]
}