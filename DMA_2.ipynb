{
  "nbformat": 4,
  "nbformat_minor": 0,
  "metadata": {
    "colab": {
      "provenance": [],
      "authorship_tag": "ABX9TyMG3X/GN5w1wqjyutkrceV4",
      "include_colab_link": true
    },
    "kernelspec": {
      "name": "python3",
      "display_name": "Python 3"
    },
    "language_info": {
      "name": "python"
    }
  },
  "cells": [
    {
      "cell_type": "markdown",
      "metadata": {
        "id": "view-in-github",
        "colab_type": "text"
      },
      "source": [
        "<a href=\"https://colab.research.google.com/github/ANANAYAGG/AI_LAB/blob/main/DMA_2.ipynb\" target=\"_parent\"><img src=\"https://colab.research.google.com/assets/colab-badge.svg\" alt=\"Open In Colab\"/></a>"
      ]
    },
    {
      "cell_type": "markdown",
      "source": [
        "**DECESION MAKING BASIC PYTHON**\n",
        "\n",
        "\n"
      ],
      "metadata": {
        "id": "8mFhmjvBweA5"
      }
    },
    {
      "cell_type": "code",
      "execution_count": 1,
      "metadata": {
        "colab": {
          "base_uri": "https://localhost:8080/"
        },
        "id": "h3J-bMp3uC8b",
        "outputId": "490ee9d6-c8c3-48c7-c944-6c6c7a83442f"
      },
      "outputs": [
        {
          "output_type": "stream",
          "name": "stdout",
          "text": [
            "y is 20 or greater\n"
          ]
        }
      ],
      "source": [
        "y = 20\n",
        "if y < 10:\n",
        "    print(\"y is less than 10\")\n",
        "elif y < 20:\n",
        "    print(\"y is between 10 and 20\")\n",
        "else:\n",
        "    print(\"y is 20 or greater\")"
      ]
    },
    {
      "cell_type": "code",
      "source": [],
      "metadata": {
        "id": "CqDz4PzGxpCt"
      },
      "execution_count": null,
      "outputs": []
    },
    {
      "cell_type": "markdown",
      "source": [
        "**LOOPS IN PYTHON**"
      ],
      "metadata": {
        "id": "1P2oxqEuw9V1"
      }
    },
    {
      "cell_type": "code",
      "source": [
        "\n",
        "for i in range(5):\n",
        "    print(i)\n",
        "\n",
        "\n",
        "fruits = [\"apple\", \"banana\", \"cherry\"]\n",
        "for fruit in fruits:\n",
        "    print(fruit)\n"
      ],
      "metadata": {
        "colab": {
          "base_uri": "https://localhost:8080/"
        },
        "id": "ozfb8LjewwpS",
        "outputId": "e7a4e5bf-c6b7-44af-af4d-36a5cb80916c"
      },
      "execution_count": 2,
      "outputs": [
        {
          "output_type": "stream",
          "name": "stdout",
          "text": [
            "0\n",
            "1\n",
            "2\n",
            "3\n",
            "4\n",
            "apple\n",
            "banana\n",
            "cherry\n"
          ]
        }
      ]
    },
    {
      "cell_type": "markdown",
      "source": [
        "**STRINGS**"
      ],
      "metadata": {
        "id": "AZLDaX6vxMoX"
      }
    },
    {
      "cell_type": "code",
      "source": [
        "message = \"DATA MINING AND ANALYSIS\"\n",
        "\n",
        "print(len(message))\n",
        "\n",
        "print(message)\n",
        "print(message[7:12])\n",
        "\n",
        "print(message.upper())\n",
        "print(message.lower())\n",
        "print(message.replace(\"Hello\", \"Hi\"))\n",
        "\n",
        "first_name = \"John\"\n",
        "last_name = \"Doe\"\n",
        "full_name = first_name + \" \" + last_name\n",
        "print(full_name)\n",
        "\n",
        "age = 30\n",
        "print(f\"{full_name} is {age} years old\")"
      ],
      "metadata": {
        "colab": {
          "base_uri": "https://localhost:8080/"
        },
        "id": "KYtzNRnlxE3y",
        "outputId": "ba021252-57f6-4749-84c1-48079cdd24a2"
      },
      "execution_count": 3,
      "outputs": [
        {
          "output_type": "stream",
          "name": "stdout",
          "text": [
            "24\n",
            "DATA MINING AND ANALYSIS\n",
            "NING \n",
            "DATA MINING AND ANALYSIS\n",
            "data mining and analysis\n",
            "DATA MINING AND ANALYSIS\n",
            "John Doe\n",
            "John Doe is 30 years old\n"
          ]
        }
      ]
    }
  ]
}