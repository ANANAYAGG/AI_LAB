{
  "nbformat": 4,
  "nbformat_minor": 0,
  "metadata": {
    "colab": {
      "provenance": [],
      "authorship_tag": "ABX9TyNw7EI81G4ZXzt//A2EaUzA",
      "include_colab_link": true
    },
    "kernelspec": {
      "name": "python3",
      "display_name": "Python 3"
    },
    "language_info": {
      "name": "python"
    }
  },
  "cells": [
    {
      "cell_type": "markdown",
      "metadata": {
        "id": "view-in-github",
        "colab_type": "text"
      },
      "source": [
        "<a href=\"https://colab.research.google.com/github/ANANAYAGG/AI_LAB/blob/main/DMA_1.ipynb\" target=\"_parent\"><img src=\"https://colab.research.google.com/assets/colab-badge.svg\" alt=\"Open In Colab\"/></a>"
      ]
    },
    {
      "cell_type": "code",
      "execution_count": 1,
      "metadata": {
        "colab": {
          "base_uri": "https://localhost:8080/"
        },
        "id": "77loTsPD1gXP",
        "outputId": "349db82d-a1a7-4982-84ab-e7cee28cb66f"
      },
      "outputs": [
        {
          "output_type": "stream",
          "name": "stdout",
          "text": [
            "Hello, World!\n",
            "5\n",
            "John\n",
            "1 2 three\n",
            "[1, 2, 3]\n",
            "(1, 2, 3)\n",
            "{1, 2, 3}\n",
            "{'name': 'John', 'age': 30}\n",
            "15\n",
            "5\n",
            "50\n",
            "2.0\n",
            "0\n",
            "100000\n",
            "2\n",
            "8\n",
            "True\n",
            "False\n",
            "False\n",
            "a is greater than b\n",
            "1\n",
            "2\n",
            "3\n",
            "4\n",
            "5\n",
            "apple\n",
            "banana\n",
            "cherry\n",
            "3.141592653589793\n",
            "4.0\n",
            "5\n",
            "4\n"
          ]
        }
      ],
      "source": [
        "print(\"Hello, World!\")\n",
        "\n",
        "x = 5\n",
        "y = \"John\"\n",
        "print(x)\n",
        "print(y)\n",
        "\n",
        "a, b, c = 1, 2, \"three\"\n",
        "print(a, b, c)\n",
        "\n",
        "myList = [1, 2, 3]\n",
        "myTuple = (1, 2, 3)\n",
        "mySet = {1, 2, 3}\n",
        "myDict = {\"name\": \"John\", \"age\": 30}\n",
        "\n",
        "print(myList)\n",
        "print(myTuple)\n",
        "print(mySet)\n",
        "print(myDict)\n",
        "\n",
        "num1 = 10\n",
        "num2 = 5\n",
        "\n",
        "print(num1 + num2)\n",
        "print(num1 - num2)\n",
        "print(num1 * num2)\n",
        "print(num1 / num2)\n",
        "print(num1 % num2)\n",
        "print(num1 ** num2)\n",
        "print(num1 // num2)\n",
        "\n",
        "x = 5\n",
        "x += 3\n",
        "print(x)\n",
        "\n",
        "print(10 > 9)\n",
        "print(10 == 9)\n",
        "print(10 < 9)\n",
        "\n",
        "a = 200\n",
        "b = 33\n",
        "if b > a:\n",
        "    print(\"b is greater than a\")\n",
        "elif a == b:\n",
        "    print(\"a and b are equal\")\n",
        "else:\n",
        "    print(\"a is greater than b\")\n",
        "\n",
        "i = 1\n",
        "while i < 6:\n",
        "    print(i)\n",
        "    i += 1\n",
        "\n",
        "fruits = [\"apple\", \"banana\", \"cherry\"]\n",
        "for x in fruits:\n",
        "    print(x)\n",
        "\n",
        "import math\n",
        "\n",
        "print(math.pi)\n",
        "print(math.sqrt(16))\n",
        "print(math.ceil(4.1))\n",
        "print(math.floor(4.9))\n"
      ]
    },
    {
      "cell_type": "code",
      "source": [],
      "metadata": {
        "id": "HQyF-_Iy1hz-"
      },
      "execution_count": null,
      "outputs": []
    }
  ]
}