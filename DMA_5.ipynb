{
  "nbformat": 4,
  "nbformat_minor": 0,
  "metadata": {
    "colab": {
      "provenance": [],
      "authorship_tag": "ABX9TyMGQ0OXb920C2d90m78iIp1",
      "include_colab_link": true
    },
    "kernelspec": {
      "name": "python3",
      "display_name": "Python 3"
    },
    "language_info": {
      "name": "python"
    }
  },
  "cells": [
    {
      "cell_type": "markdown",
      "metadata": {
        "id": "view-in-github",
        "colab_type": "text"
      },
      "source": [
        "<a href=\"https://colab.research.google.com/github/ANANAYAGG/AI_LAB/blob/main/DMA_5.ipynb\" target=\"_parent\"><img src=\"https://colab.research.google.com/assets/colab-badge.svg\" alt=\"Open In Colab\"/></a>"
      ]
    },
    {
      "cell_type": "markdown",
      "source": [
        "**ARRAY CREATION**\n"
      ],
      "metadata": {
        "id": "ILLF11rbj32i"
      }
    },
    {
      "cell_type": "code",
      "source": [
        "arr = np.array([1, 2, 3])\n",
        "print(arr.ndim)\n",
        "print(arr.shape)\n",
        "print(arr.size)\n",
        "print(arr.dtype)"
      ],
      "metadata": {
        "colab": {
          "base_uri": "https://localhost:8080/"
        },
        "id": "M8ZdnRZEiJSY",
        "outputId": "54300537-37ae-4086-ba0f-404f4310d06e"
      },
      "execution_count": 7,
      "outputs": [
        {
          "output_type": "stream",
          "name": "stdout",
          "text": [
            "1\n",
            "(3,)\n",
            "3\n",
            "int64\n"
          ]
        }
      ]
    },
    {
      "cell_type": "markdown",
      "source": [
        "**indexing and slicing**"
      ],
      "metadata": {
        "id": "B0QqjmIIltTM"
      }
    },
    {
      "cell_type": "code",
      "source": [
        "arr = np.array([[[1, 2, 3], [4, 5, 6], [7, 8, 9]]])\n",
        "print(arr[0, 1])\n",
        "print(arr[0:2, 1:3])\n",
        "print(arr.ndim)\n"
      ],
      "metadata": {
        "colab": {
          "base_uri": "https://localhost:8080/"
        },
        "id": "L-pR-GD6k3iD",
        "outputId": "67ce2fc1-1419-425e-8e26-64c38b48ecff"
      },
      "execution_count": 10,
      "outputs": [
        {
          "output_type": "stream",
          "name": "stdout",
          "text": [
            "[4 5 6]\n",
            "[[[4 5 6]\n",
            "  [7 8 9]]]\n",
            "3\n"
          ]
        }
      ]
    },
    {
      "cell_type": "markdown",
      "source": [
        "**BROADCASTING**"
      ],
      "metadata": {
        "id": "1dVQV3YImFFY"
      }
    },
    {
      "cell_type": "code",
      "source": [
        "a = np.array([1, 2, 3])\n",
        "b = np.array([[1], [2], [3]])\n",
        "print(a + b)\n"
      ],
      "metadata": {
        "colab": {
          "base_uri": "https://localhost:8080/"
        },
        "id": "ND5CXH-1l1-3",
        "outputId": "ae3c8657-11c8-4809-fe8c-6a39ff36b7b8"
      },
      "execution_count": 11,
      "outputs": [
        {
          "output_type": "stream",
          "name": "stdout",
          "text": [
            "[[2 3 4]\n",
            " [3 4 5]\n",
            " [4 5 6]]\n"
          ]
        }
      ]
    },
    {
      "cell_type": "markdown",
      "source": [
        "**ITERATION**"
      ],
      "metadata": {
        "id": "2Hc_j_Lgmfa9"
      }
    },
    {
      "cell_type": "code",
      "source": [
        "arr = np.array([[1, 2], [3, 4]])\n",
        "for x in np.nditer(arr):\n",
        "    print(x)\n"
      ],
      "metadata": {
        "colab": {
          "base_uri": "https://localhost:8080/"
        },
        "id": "AQYzB3rumLML",
        "outputId": "b605288d-79ec-4c62-e08b-4eccf5fbcf6f"
      },
      "execution_count": 12,
      "outputs": [
        {
          "output_type": "stream",
          "name": "stdout",
          "text": [
            "1\n",
            "2\n",
            "3\n",
            "4\n"
          ]
        }
      ]
    },
    {
      "cell_type": "code",
      "source": [
        "a = np.array([1, 2, 3])\n",
        "b = np.array([4, 5, 6])\n",
        "print(a + b)\n",
        "print(a * b)\n"
      ],
      "metadata": {
        "colab": {
          "base_uri": "https://localhost:8080/"
        },
        "id": "7DbrzDmpmjLJ",
        "outputId": "62889c75-4ec1-49ab-d2da-66296022dc3b"
      },
      "execution_count": 13,
      "outputs": [
        {
          "output_type": "stream",
          "name": "stdout",
          "text": [
            "[5 7 9]\n",
            "[ 4 10 18]\n"
          ]
        }
      ]
    },
    {
      "cell_type": "code",
      "source": [
        "arr = np.array([1, 2, 3, 4, 5])\n",
        "print(np.mean(arr))\n",
        "print(np.std(arr))\n"
      ],
      "metadata": {
        "colab": {
          "base_uri": "https://localhost:8080/"
        },
        "id": "Vn8NnDXM4Y65",
        "outputId": "53496de4-3c7f-4921-c7fa-cc89914b8572"
      },
      "execution_count": 14,
      "outputs": [
        {
          "output_type": "stream",
          "name": "stdout",
          "text": [
            "3.0\n",
            "1.4142135623730951\n"
          ]
        }
      ]
    },
    {
      "cell_type": "code",
      "source": [
        "a = np.array([[1, 2], [3, 4]])\n",
        "b = np.array([[5, 6], [7, 8]])\n",
        "print(np.dot(a, b))\n"
      ],
      "metadata": {
        "colab": {
          "base_uri": "https://localhost:8080/"
        },
        "id": "CNdNuNuZ4dwT",
        "outputId": "d687ead2-5bfd-4be0-f68e-64f6a5d5a5c6"
      },
      "execution_count": 15,
      "outputs": [
        {
          "output_type": "stream",
          "name": "stdout",
          "text": [
            "[[19 22]\n",
            " [43 50]]\n"
          ]
        }
      ]
    },
    {
      "cell_type": "code",
      "execution_count": 2,
      "metadata": {
        "colab": {
          "base_uri": "https://localhost:8080/"
        },
        "id": "kbiSeD4phs-B",
        "outputId": "737b29c5-8c3e-4d3a-e601-87ee415a60b2"
      },
      "outputs": [
        {
          "output_type": "stream",
          "name": "stdout",
          "text": [
            "['Alice' 'Bob' 'Charlie']\n",
            "[25.5 30.  28. ]\n"
          ]
        }
      ],
      "source": [
        "import numpy as np\n",
        "\n",
        "\n",
        "records = [(1, 'Alice', 25.5), (2, 'Bob', 30.0), (3, 'Charlie', 28.0)]\n",
        "dtype = [('id', 'i4'), ('name', 'U10'), ('age', 'f4')]\n",
        "\n",
        "\n",
        "structured_array = np.rec.fromrecords(records, dtype=dtype)\n",
        "\n",
        "\n",
        "print(structured_array['name'])\n",
        "\n",
        "print(structured_array['age'])"
      ]
    },
    {
      "cell_type": "code",
      "source": [],
      "metadata": {
        "id": "9xGMiSgn4hIO"
      },
      "execution_count": null,
      "outputs": []
    }
  ]
}